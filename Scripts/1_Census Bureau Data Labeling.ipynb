{
 "cells": [
  {
   "cell_type": "markdown",
   "id": "995f411f",
   "metadata": {},
   "source": [
    "# Introduction\n",
    "The data was extracted from the census bureau database found at https://www.census.gov/data.html\n",
    "\n",
    "### Objective\n",
    "The main goal is to predict whether a person income level over 50K a year or not."
   ]
  },
  {
   "cell_type": "markdown",
   "id": "71697069",
   "metadata": {},
   "source": [
    "# Data Acquisition"
   ]
  },
  {
   "cell_type": "code",
   "execution_count": 1,
   "id": "c0cd7079",
   "metadata": {},
   "outputs": [],
   "source": [
    "# Import Package and Data\n",
    "import pandas as pd\n",
    "import numpy as np\n",
    "import seaborn as sns\n",
    "import matplotlib.pyplot as plt\n",
    "import scipy.cluster.hierarchy as sch   # Used for reordering the correlation matrix\n",
    "\n",
    "import sklearn \n",
    "%matplotlib inline\n",
    "\n",
    "import warnings\n",
    "warnings.filterwarnings('ignore')"
   ]
  },
  {
   "cell_type": "code",
   "execution_count": 2,
   "id": "c120463d",
   "metadata": {},
   "outputs": [],
   "source": [
    "#define path of data folder\n",
    "data_path = 'D:/JOB PREP/Upcoming/Assessment - DS - Dataiku/Data/'\n",
    "income_learn_df = pd.read_csv(data_path+\"census_income_learn.csv\",header=None)\n",
    "income_test_df = pd.read_csv(data_path+\"census_income_test.csv\",header=None)"
   ]
  },
  {
   "cell_type": "code",
   "execution_count": 3,
   "id": "93c47da4",
   "metadata": {},
   "outputs": [],
   "source": [
    "#assign column name using column mapping list from the Census Bureau's internal database\n",
    "column_mapping = pd.read_csv(data_path+\"ColumnMapping.csv\")\n",
    "ColumnNames = column_mapping['ColumnName'].tolist()\n",
    "income_learn_df.columns = ColumnNames\n",
    "income_test_df.columns = ColumnNames"
   ]
  },
  {
   "cell_type": "code",
   "execution_count": 4,
   "id": "3a2578b4",
   "metadata": {},
   "outputs": [],
   "source": [
    "income_learn_df.to_csv(data_path+\"census_income_learn_label.csv\",index=False)\n",
    "income_test_df.to_csv(data_path+\"census_income_test_label.csv\",index=False)"
   ]
  }
 ],
 "metadata": {
  "kernelspec": {
   "display_name": "Python 3 (ipykernel)",
   "language": "python",
   "name": "python3"
  },
  "language_info": {
   "codemirror_mode": {
    "name": "ipython",
    "version": 3
   },
   "file_extension": ".py",
   "mimetype": "text/x-python",
   "name": "python",
   "nbconvert_exporter": "python",
   "pygments_lexer": "ipython3",
   "version": "3.9.7"
  }
 },
 "nbformat": 4,
 "nbformat_minor": 5
}
